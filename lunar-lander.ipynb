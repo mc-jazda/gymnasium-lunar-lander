{
 "cells": [
  {
   "cell_type": "code",
   "execution_count": 2,
   "metadata": {},
   "outputs": [],
   "source": [
    "env_seed = 0"
   ]
  },
  {
   "cell_type": "code",
   "execution_count": null,
   "metadata": {},
   "outputs": [],
   "source": [
    "from genetic.train import train_bot\n",
    "\n",
    "bot = train_bot(num_generations=200, num_surviving=40, num_new=160, mut_prob=0.05, bots=None, seed=env_seed)"
   ]
  },
  {
   "cell_type": "code",
   "execution_count": 3,
   "metadata": {},
   "outputs": [],
   "source": [
    "filename = 'bot2.json'\n",
    "bot.save_to_json(filename=filename)"
   ]
  },
  {
   "cell_type": "code",
   "execution_count": 3,
   "metadata": {},
   "outputs": [],
   "source": [
    "from genetic.bot import Bot\n",
    "\n",
    "filename = 'bot.json'\n",
    "bot = Bot()\n",
    "bot.load_from_json(filename=filename)"
   ]
  },
  {
   "cell_type": "code",
   "execution_count": 4,
   "metadata": {},
   "outputs": [],
   "source": [
    "import gymnasium as gym\n",
    "import keyboard\n",
    "from gymnasium.utils.seeding import np_random\n",
    "import random\n",
    "\n",
    "env = gym.make(\"LunarLander-v2\", render_mode='human')\n",
    "rng, seed = np_random(env_seed)\n",
    "\n",
    "seed = int(rng.integers(low=0, high=100))\n",
    "observation, info = env.reset(seed=seed)\n",
    "\n",
    "for _ in range(10000):\n",
    "    action = bot.action(observation)\n",
    "    observation, reward, terminated, truncated, info = env.step(action)\n",
    "    bot.reward(reward)\n",
    "\n",
    "    if terminated or truncated:\n",
    "        observation, info = env.reset()\n",
    "        bot.sum_reward = 0\n",
    "    \n",
    "    if keyboard.is_pressed('q'):\n",
    "        break\n",
    "\n",
    "env.close()"
   ]
  }
 ],
 "metadata": {
  "kernelspec": {
   "display_name": "Python 3",
   "language": "python",
   "name": "python3"
  },
  "language_info": {
   "codemirror_mode": {
    "name": "ipython",
    "version": 3
   },
   "file_extension": ".py",
   "mimetype": "text/x-python",
   "name": "python",
   "nbconvert_exporter": "python",
   "pygments_lexer": "ipython3",
   "version": "3.11.8"
  }
 },
 "nbformat": 4,
 "nbformat_minor": 2
}
